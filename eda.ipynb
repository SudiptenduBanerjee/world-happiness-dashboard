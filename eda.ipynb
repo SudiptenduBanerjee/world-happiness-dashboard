{
 "cells": [
  {
   "cell_type": "code",
   "execution_count": 42,
   "id": "d3e0cade-aab9-4946-84b3-00432a18d4b4",
   "metadata": {},
   "outputs": [],
   "source": [
    "import pandas as pd\n",
    "import matplotlib.pyplot as plt\n",
    "import seaborn as sns\n",
    "import plotly.express as px"
   ]
  },
  {
   "cell_type": "code",
   "execution_count": 43,
   "id": "6329d3d5-e65f-4155-9fc3-87cc658f6b3b",
   "metadata": {},
   "outputs": [],
   "source": [
    "df = pd.read_csv('2019.csv')"
   ]
  },
  {
   "cell_type": "code",
   "execution_count": 44,
   "id": "6b64fca6-983d-40b0-98db-67631de760b4",
   "metadata": {},
   "outputs": [
    {
     "name": "stdout",
     "output_type": "stream",
     "text": [
      "<class 'pandas.core.frame.DataFrame'>\n",
      "RangeIndex: 156 entries, 0 to 155\n",
      "Data columns (total 9 columns):\n",
      " #   Column                        Non-Null Count  Dtype  \n",
      "---  ------                        --------------  -----  \n",
      " 0   Overall rank                  156 non-null    int64  \n",
      " 1   Country or region             156 non-null    object \n",
      " 2   Score                         156 non-null    float64\n",
      " 3   GDP per capita                156 non-null    float64\n",
      " 4   Social support                156 non-null    float64\n",
      " 5   Healthy life expectancy       156 non-null    float64\n",
      " 6   Freedom to make life choices  156 non-null    float64\n",
      " 7   Generosity                    156 non-null    float64\n",
      " 8   Perceptions of corruption     156 non-null    float64\n",
      "dtypes: float64(7), int64(1), object(1)\n",
      "memory usage: 11.1+ KB\n",
      "None\n",
      "   Overall rank Country or region  Score  GDP per capita  Social support  \\\n",
      "0             1           Finland  7.769           1.340           1.587   \n",
      "1             2           Denmark  7.600           1.383           1.573   \n",
      "2             3            Norway  7.554           1.488           1.582   \n",
      "3             4           Iceland  7.494           1.380           1.624   \n",
      "4             5       Netherlands  7.488           1.396           1.522   \n",
      "\n",
      "   Healthy life expectancy  Freedom to make life choices  Generosity  \\\n",
      "0                    0.986                         0.596       0.153   \n",
      "1                    0.996                         0.592       0.252   \n",
      "2                    1.028                         0.603       0.271   \n",
      "3                    1.026                         0.591       0.354   \n",
      "4                    0.999                         0.557       0.322   \n",
      "\n",
      "   Perceptions of corruption  \n",
      "0                      0.393  \n",
      "1                      0.410  \n",
      "2                      0.341  \n",
      "3                      0.118  \n",
      "4                      0.298  \n"
     ]
    }
   ],
   "source": [
    "print(df.info())\n",
    "print(df.head())"
   ]
  },
  {
   "cell_type": "code",
   "execution_count": 45,
   "id": "c73ceb38-c2aa-4e96-82eb-b8b92cfc2667",
   "metadata": {},
   "outputs": [
    {
     "name": "stdout",
     "output_type": "stream",
     "text": [
      "Overall rank                    0\n",
      "Country or region               0\n",
      "Score                           0\n",
      "GDP per capita                  0\n",
      "Social support                  0\n",
      "Healthy life expectancy         0\n",
      "Freedom to make life choices    0\n",
      "Generosity                      0\n",
      "Perceptions of corruption       0\n",
      "dtype: int64\n"
     ]
    }
   ],
   "source": [
    "print(df.isnull().sum())"
   ]
  },
  {
   "cell_type": "code",
   "execution_count": 46,
   "id": "e5af5f11-5f45-4b15-a959-c6e4080e3a75",
   "metadata": {},
   "outputs": [
    {
     "name": "stdout",
     "output_type": "stream",
     "text": [
      "       Overall rank       Score  GDP per capita  Social support  \\\n",
      "count    156.000000  156.000000      156.000000      156.000000   \n",
      "mean      78.500000    5.407096        0.905147        1.208814   \n",
      "std       45.177428    1.113120        0.398389        0.299191   \n",
      "min        1.000000    2.853000        0.000000        0.000000   \n",
      "25%       39.750000    4.544500        0.602750        1.055750   \n",
      "50%       78.500000    5.379500        0.960000        1.271500   \n",
      "75%      117.250000    6.184500        1.232500        1.452500   \n",
      "max      156.000000    7.769000        1.684000        1.624000   \n",
      "\n",
      "       Healthy life expectancy  Freedom to make life choices  Generosity  \\\n",
      "count               156.000000                    156.000000  156.000000   \n",
      "mean                  0.725244                      0.392571    0.184846   \n",
      "std                   0.242124                      0.143289    0.095254   \n",
      "min                   0.000000                      0.000000    0.000000   \n",
      "25%                   0.547750                      0.308000    0.108750   \n",
      "50%                   0.789000                      0.417000    0.177500   \n",
      "75%                   0.881750                      0.507250    0.248250   \n",
      "max                   1.141000                      0.631000    0.566000   \n",
      "\n",
      "       Perceptions of corruption  \n",
      "count                 156.000000  \n",
      "mean                    0.110603  \n",
      "std                     0.094538  \n",
      "min                     0.000000  \n",
      "25%                     0.047000  \n",
      "50%                     0.085500  \n",
      "75%                     0.141250  \n",
      "max                     0.453000  \n"
     ]
    }
   ],
   "source": [
    "print(df.describe())"
   ]
  },
  {
   "cell_type": "code",
   "execution_count": 47,
   "id": "d817986f-14d7-4dbd-b567-573a794eb124",
   "metadata": {},
   "outputs": [],
   "source": [
    "plt.figure(figsize=(10, 6))\n",
    "sns.heatmap(numeric_df.corr(), annot=True, cmap='coolwarm')\n",
    "plt.title('Correlation Matrix')\n",
    "plt.savefig('correlation_matrix.png')\n",
    "plt.close()"
   ]
  },
  {
   "cell_type": "code",
   "execution_count": 48,
   "id": "d105d59c-ae2f-4cb1-92b9-9c05214448e7",
   "metadata": {},
   "outputs": [],
   "source": [
    "plt.figure(figsize=(10, 6))\n",
    "sns.histplot(df['Score'], kde=True)\n",
    "plt.title('Distribution of Happiness Scores')\n",
    "plt.savefig('happiness_distribution.png')\n",
    "plt.close()"
   ]
  },
  {
   "cell_type": "code",
   "execution_count": 49,
   "id": "fa77d307-4d70-4948-8f34-7eb052410e1a",
   "metadata": {},
   "outputs": [],
   "source": [
    "top_10 = df.nlargest(10, 'Score')\n",
    "fig = px.bar(top_10, x='Country or region', y='Score', title='Top 10 Happiest Countries')\n",
    "\n",
    "# Save the interactive chart to an HTML file\n",
    "fig.write_html('top_10_happiest.html')"
   ]
  },
  {
   "cell_type": "code",
   "execution_count": 50,
   "id": "c436a7a6-f41f-4d38-998c-afa6d8204b7f",
   "metadata": {},
   "outputs": [],
   "source": [
    "fig = px.scatter(df, x='GDP per capita', y='Score', text='Country or region', title='GDP vs Happiness Score')\n",
    "fig.update_traces(textposition='top center')\n",
    "fig.write_html('gdp_vs_happiness.html')"
   ]
  }
 ],
 "metadata": {
  "kernelspec": {
   "display_name": "Python 3 (ipykernel)",
   "language": "python",
   "name": "python3"
  },
  "language_info": {
   "codemirror_mode": {
    "name": "ipython",
    "version": 3
   },
   "file_extension": ".py",
   "mimetype": "text/x-python",
   "name": "python",
   "nbconvert_exporter": "python",
   "pygments_lexer": "ipython3",
   "version": "3.9.21"
  }
 },
 "nbformat": 4,
 "nbformat_minor": 5
}
